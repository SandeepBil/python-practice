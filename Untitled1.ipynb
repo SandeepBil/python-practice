{
  "cells": [
    {
      "cell_type": "code",
      "execution_count": null,
      "metadata": {
        "colab": {
          "base_uri": "https://localhost:8080/",
          "height": 106
        },
        "id": "WzcJDRdHvi06",
        "outputId": "7883a5c7-c0b1-4e88-a023-0e66cf7316ab"
      },
      "outputs": [
        {
          "ename": "SyntaxError",
          "evalue": "invalid syntax (<ipython-input-2-552e48e3b8e7>, line 3)",
          "output_type": "error",
          "traceback": [
            "\u001b[0;36m  File \u001b[0;32m\"<ipython-input-2-552e48e3b8e7>\"\u001b[0;36m, line \u001b[0;32m3\u001b[0m\n\u001b[0;31m    if x >= 13 and y = 10:15 or 13:30:\u001b[0m\n\u001b[0m                     ^\u001b[0m\n\u001b[0;31mSyntaxError\u001b[0m\u001b[0;31m:\u001b[0m invalid syntax\n"
          ]
        }
      ],
      "source": [
        "x = int(input(\"enter your age\"))\n",
        "y = int(input(\"enter a show time\"))\n",
        "if x >= 13 and y = 10:15 or 13:30:\n",
        "  print(\"8$\")\n",
        "  elif x >= 13 and y = 18:00 or 22:00:\n",
        "    print(\"5$\")\n",
        "    elif x <= 13 and y = 10:15 or 13:30:\n",
        "      print(\"$4\")\n",
        "    else:\n",
        "      print(\"2$\")\n"
      ]
    },
    {
      "cell_type": "code",
      "execution_count": null,
      "metadata": {
        "colab": {
          "base_uri": "https://localhost:8080/"
        },
        "id": "GroWa8TixmHO",
        "outputId": "8bbab58a-53a0-43b6-c80e-07f3be98c2c1"
      },
      "outputs": [
        {
          "name": "stdout",
          "output_type": "stream",
          "text": [
            "enter your age5\n",
            "enter a show time10.15\n",
            "$4\n"
          ]
        }
      ],
      "source": [
        "x = int(input(\"enter your age\"))\n",
        "y = float(input(\"enter a show time\"))\n",
        "if x > 13 and (y == 10.15 or y== 13.30):\n",
        "  print(\"8$\")\n",
        "elif x >= 13 and (y == 18.00 or y==  22.00):\n",
        "    print(\"5$\")\n",
        "elif x <= 13 and (y == 10.15 or y== 13.30):\n",
        "     print(\"$4\")\n",
        "else:\n",
        "      print(\"2$\")\n"
      ]
    },
    {
      "cell_type": "code",
      "execution_count": null,
      "metadata": {
        "id": "5yKJzTa57Vix"
      },
      "outputs": [],
      "source": []
    },
    {
      "cell_type": "code",
      "execution_count": null,
      "metadata": {
        "colab": {
          "base_uri": "https://localhost:8080/",
          "height": 356
        },
        "id": "cGmSqHc81Yw7",
        "outputId": "e92c9789-c564-4cdf-e308-50a1a9bada2e"
      },
      "outputs": [
        {
          "ename": "KeyboardInterrupt",
          "evalue": "Interrupted by user",
          "output_type": "error",
          "traceback": [
            "\u001b[0;31m---------------------------------------------------------------------------\u001b[0m",
            "\u001b[0;31mKeyboardInterrupt\u001b[0m                         Traceback (most recent call last)",
            "\u001b[0;32m<ipython-input-24-881eace446ac>\u001b[0m in \u001b[0;36m<cell line: 1>\u001b[0;34m()\u001b[0m\n\u001b[0;32m----> 1\u001b[0;31m \u001b[0mx\u001b[0m \u001b[0;34m=\u001b[0m \u001b[0mint\u001b[0m\u001b[0;34m(\u001b[0m\u001b[0minput\u001b[0m\u001b[0;34m(\u001b[0m\u001b[0;34m\"enter your birth year\"\u001b[0m\u001b[0;34m)\u001b[0m\u001b[0;34m)\u001b[0m\u001b[0;34m\u001b[0m\u001b[0;34m\u001b[0m\u001b[0m\n\u001b[0m\u001b[1;32m      2\u001b[0m \u001b[0my\u001b[0m \u001b[0;34m=\u001b[0m \u001b[0mint\u001b[0m\u001b[0;34m(\u001b[0m\u001b[0minput\u001b[0m\u001b[0;34m(\u001b[0m\u001b[0;34m\"enter the current year\"\u001b[0m\u001b[0;34m)\u001b[0m\u001b[0;34m)\u001b[0m\u001b[0;34m\u001b[0m\u001b[0;34m\u001b[0m\u001b[0m\n\u001b[1;32m      3\u001b[0m \u001b[0;32mif\u001b[0m \u001b[0my\u001b[0m \u001b[0;34m>=\u001b[0m \u001b[0;36m00\u001b[0m \u001b[0;32mand\u001b[0m \u001b[0;36m24\u001b[0m\u001b[0;34m:\u001b[0m\u001b[0;34m\u001b[0m\u001b[0;34m\u001b[0m\u001b[0m\n\u001b[1;32m      4\u001b[0m   \u001b[0mprint\u001b[0m\u001b[0;34m(\u001b[0m\u001b[0;34m(\u001b[0m\u001b[0mx\u001b[0m \u001b[0;34m-\u001b[0m \u001b[0my\u001b[0m\u001b[0;34m)\u001b[0m \u001b[0;34m*\u001b[0m \u001b[0;34m-\u001b[0m\u001b[0;36m1\u001b[0m\u001b[0;34m)\u001b[0m\u001b[0;34m\u001b[0m\u001b[0;34m\u001b[0m\u001b[0m\n\u001b[1;32m      5\u001b[0m \u001b[0;32melse\u001b[0m\u001b[0;34m:\u001b[0m\u001b[0;34m\u001b[0m\u001b[0;34m\u001b[0m\u001b[0m\n",
            "\u001b[0;32m/usr/local/lib/python3.10/dist-packages/ipykernel/kernelbase.py\u001b[0m in \u001b[0;36mraw_input\u001b[0;34m(self, prompt)\u001b[0m\n\u001b[1;32m    849\u001b[0m                 \u001b[0;34m\"raw_input was called, but this frontend does not support input requests.\"\u001b[0m\u001b[0;34m\u001b[0m\u001b[0;34m\u001b[0m\u001b[0m\n\u001b[1;32m    850\u001b[0m             )\n\u001b[0;32m--> 851\u001b[0;31m         return self._input_request(str(prompt),\n\u001b[0m\u001b[1;32m    852\u001b[0m             \u001b[0mself\u001b[0m\u001b[0;34m.\u001b[0m\u001b[0m_parent_ident\u001b[0m\u001b[0;34m,\u001b[0m\u001b[0;34m\u001b[0m\u001b[0;34m\u001b[0m\u001b[0m\n\u001b[1;32m    853\u001b[0m             \u001b[0mself\u001b[0m\u001b[0;34m.\u001b[0m\u001b[0m_parent_header\u001b[0m\u001b[0;34m,\u001b[0m\u001b[0;34m\u001b[0m\u001b[0;34m\u001b[0m\u001b[0m\n",
            "\u001b[0;32m/usr/local/lib/python3.10/dist-packages/ipykernel/kernelbase.py\u001b[0m in \u001b[0;36m_input_request\u001b[0;34m(self, prompt, ident, parent, password)\u001b[0m\n\u001b[1;32m    893\u001b[0m             \u001b[0;32mexcept\u001b[0m \u001b[0mKeyboardInterrupt\u001b[0m\u001b[0;34m:\u001b[0m\u001b[0;34m\u001b[0m\u001b[0;34m\u001b[0m\u001b[0m\n\u001b[1;32m    894\u001b[0m                 \u001b[0;31m# re-raise KeyboardInterrupt, to truncate traceback\u001b[0m\u001b[0;34m\u001b[0m\u001b[0;34m\u001b[0m\u001b[0m\n\u001b[0;32m--> 895\u001b[0;31m                 \u001b[0;32mraise\u001b[0m \u001b[0mKeyboardInterrupt\u001b[0m\u001b[0;34m(\u001b[0m\u001b[0;34m\"Interrupted by user\"\u001b[0m\u001b[0;34m)\u001b[0m \u001b[0;32mfrom\u001b[0m \u001b[0;32mNone\u001b[0m\u001b[0;34m\u001b[0m\u001b[0;34m\u001b[0m\u001b[0m\n\u001b[0m\u001b[1;32m    896\u001b[0m             \u001b[0;32mexcept\u001b[0m \u001b[0mException\u001b[0m \u001b[0;32mas\u001b[0m \u001b[0me\u001b[0m\u001b[0;34m:\u001b[0m\u001b[0;34m\u001b[0m\u001b[0;34m\u001b[0m\u001b[0m\n\u001b[1;32m    897\u001b[0m                 \u001b[0mself\u001b[0m\u001b[0;34m.\u001b[0m\u001b[0mlog\u001b[0m\u001b[0;34m.\u001b[0m\u001b[0mwarning\u001b[0m\u001b[0;34m(\u001b[0m\u001b[0;34m\"Invalid Message:\"\u001b[0m\u001b[0;34m,\u001b[0m \u001b[0mexc_info\u001b[0m\u001b[0;34m=\u001b[0m\u001b[0;32mTrue\u001b[0m\u001b[0;34m)\u001b[0m\u001b[0;34m\u001b[0m\u001b[0;34m\u001b[0m\u001b[0m\n",
            "\u001b[0;31mKeyboardInterrupt\u001b[0m: Interrupted by user"
          ]
        }
      ],
      "source": [
        "x = int(input(\"enter your birth year\"))\n",
        "y = int(input(\"enter the current year\"))\n",
        "if y >= 00 and 24:\n",
        "  print((x - y) * -1)\n",
        "else:\n",
        "  print(100 - x) + y"
      ]
    },
    {
      "cell_type": "code",
      "execution_count": null,
      "metadata": {
        "colab": {
          "base_uri": "https://localhost:8080/"
        },
        "id": "Lic6MK0zHjmW",
        "outputId": "609ebde1-eeb2-49e7-baca-5ead56e59dd5"
      },
      "outputs": [
        {
          "name": "stdout",
          "output_type": "stream",
          "text": [
            "123loop braek\n"
          ]
        }
      ],
      "source": [
        "for i in range(1,6):\n",
        "  if (i == 4):\n",
        "    print(\"loop braek\")\n",
        "    break\n",
        "  print(i,end=\"\")"
      ]
    },
    {
      "cell_type": "code",
      "execution_count": null,
      "metadata": {
        "id": "7Tukv8544k51"
      },
      "outputs": [],
      "source": [
        "x = int(input(\"enter your birth year\"))\n",
        "y = int(input(\"enter the current year\"))\n",
        "if y >= 00 and y < 24:\n",
        "  print((x - y) * -1)\n",
        "else:\n",
        "  print((100 - x) + y)"
      ]
    },
    {
      "cell_type": "code",
      "execution_count": null,
      "metadata": {
        "id": "ajwACdvC67Zl"
      },
      "outputs": [],
      "source": [
        "i = 5\n",
        "j = 5\n",
        "for {if i = 0,j = 1,i++}\n",
        "print(\"*\")"
      ]
    },
    {
      "cell_type": "code",
      "execution_count": null,
      "metadata": {
        "id": "R3XVFBIa4Od9"
      },
      "outputs": [],
      "source": [
        "a = 200\n",
        "print(200 - 200)"
      ]
    },
    {
      "cell_type": "code",
      "execution_count": null,
      "metadata": {
        "colab": {
          "base_uri": "https://localhost:8080/"
        },
        "id": "IPIJSxIp7XYO",
        "outputId": "0dce60ad-bfb7-4471-fbf8-fa3f0d940fc2"
      },
      "outputs": [
        {
          "name": "stdout",
          "output_type": "stream",
          "text": [
            "1 2 3 4 5 6 7 8 9 \n",
            "1 2 3 4 5 6 7 8 9 \n",
            "1 2 3 4 5 6 7 8 9 \n"
          ]
        }
      ],
      "source": [
        "for i in range(3):\n",
        "  for y in range(1, 10):\n",
        "    print(y,  end=\" \")\n",
        "  print()"
      ]
    },
    {
      "cell_type": "code",
      "execution_count": null,
      "metadata": {
        "colab": {
          "base_uri": "https://localhost:8080/"
        },
        "id": "xznfkxthBDSH",
        "outputId": "0a17c1de-a4c7-4785-a5da-9432407365b0"
      },
      "outputs": [
        {
          "name": "stdout",
          "output_type": "stream",
          "text": [
            "* * * * * \n",
            "* * * * * \n",
            "* * * * * \n",
            "* * * * * \n",
            "* * * * * \n"
          ]
        }
      ],
      "source": [
        "for i in range(1, 6):\n",
        "  for j in range(1, 6):\n",
        "     print(\"*\", end=\" \")\n",
        "  print()"
      ]
    },
    {
      "cell_type": "code",
      "execution_count": null,
      "metadata": {
        "colab": {
          "base_uri": "https://localhost:8080/"
        },
        "id": "Bv2sgj3GCUhV",
        "outputId": "b94444eb-03c0-4eca-fbea-62285820da34"
      },
      "outputs": [
        {
          "name": "stdout",
          "output_type": "stream",
          "text": [
            "* \n",
            "* * \n",
            "* * * \n",
            "* * * * \n",
            "* * * * * \n"
          ]
        }
      ],
      "source": [
        "r = 5\n",
        "for i in range(1, r+1):\n",
        "  for j in range(1, i+1):\n",
        "    print(\"*\", end=\" \")\n",
        "  print()"
      ]
    },
    {
      "cell_type": "code",
      "execution_count": null,
      "metadata": {
        "colab": {
          "base_uri": "https://localhost:8080/"
        },
        "id": "xmqyRbn6C5ZM",
        "outputId": "d7cce8cd-ef0e-4ffe-ad30-a0e7e44ac4dc"
      },
      "outputs": [
        {
          "name": "stdout",
          "output_type": "stream",
          "text": [
            "*****\n",
            "****\n",
            "***\n",
            "**\n",
            "*\n"
          ]
        }
      ],
      "source": [
        "r = 5\n",
        "for i in range(r, 0,-1):\n",
        "  for j in range(i):\n",
        "    print(\"*\", end=\" \")\n",
        "  print()"
      ]
    },
    {
      "cell_type": "code",
      "execution_count": null,
      "metadata": {
        "colab": {
          "base_uri": "https://localhost:8080/"
        },
        "id": "pYUVQYlkEYiO",
        "outputId": "37f8f0b0-afbb-412c-efbf-afdd9ad5645f"
      },
      "outputs": [
        {
          "name": "stdout",
          "output_type": "stream",
          "text": [
            "1\n",
            "12\n",
            "123\n",
            "1234\n",
            "12345\n"
          ]
        }
      ],
      "source": [
        "n = 5\n",
        "for i in range(1, 6):\n",
        "  for j in range(1, i+1):\n",
        "    print(j, end=\"\")\n",
        "  print()"
      ]
    },
    {
      "cell_type": "code",
      "execution_count": null,
      "metadata": {
        "colab": {
          "base_uri": "https://localhost:8080/"
        },
        "id": "Jl2cQh7YFbr8",
        "outputId": "52154b8d-606f-4094-9741-b5a47920cdaf"
      },
      "outputs": [
        {
          "name": "stdout",
          "output_type": "stream",
          "text": [
            "5 4 3 2 1 \n",
            "4 3 2 1 \n",
            "3 2 1 \n",
            "2 1 \n",
            "1 \n"
          ]
        }
      ],
      "source": [
        "n = 5\n",
        "for i in range(n, 0, -1):\n",
        "  for j in range (i, 0, -1):\n",
        "    print(j, end=\" \")\n",
        "  print()"
      ]
    },
    {
      "cell_type": "code",
      "execution_count": null,
      "metadata": {
        "colab": {
          "base_uri": "https://localhost:8080/"
        },
        "id": "C1j55vFOIDoG",
        "outputId": "2613d080-d85e-4305-9a07-50e12625a759"
      },
      "outputs": [
        {
          "name": "stdout",
          "output_type": "stream",
          "text": [
            "*\n",
            "**\n",
            "***\n",
            "****\n",
            "*****\n",
            "******\n",
            "*******\n",
            "********\n",
            "*********\n"
          ]
        }
      ],
      "source": [
        "n = 9\n",
        "for i in range(1, 10):\n",
        "  for j in range(1, i+1):\n",
        "    print(\"*\", end=\"\")\n",
        "  print()"
      ]
    },
    {
      "cell_type": "code",
      "execution_count": null,
      "metadata": {
        "colab": {
          "base_uri": "https://localhost:8080/"
        },
        "id": "stcgd825JbXy",
        "outputId": "5c5a34f9-5e84-47bc-a248-1d8c6b7301b9"
      },
      "outputs": [
        {
          "name": "stdout",
          "output_type": "stream",
          "text": [
            "1\n",
            "12\n",
            "123\n",
            "1234\n",
            "12345\n",
            "123456\n",
            "1234567\n",
            "12345678\n",
            "123456789\n",
            "12345678910\n"
          ]
        }
      ],
      "source": [
        "n = 10\n",
        "count = 0\n",
        "for i in range(1, n+1):\n",
        "\n",
        "  for j in range(1,i+1):\n",
        "    print(j, end=\"\")\n",
        "  print()"
      ]
    },
    {
      "cell_type": "code",
      "execution_count": null,
      "metadata": {
        "colab": {
          "base_uri": "https://localhost:8080/"
        },
        "id": "7S7_v6XHKmiq",
        "outputId": "e67e79c8-2dca-4ea3-c036-24f7c6cbdf48"
      },
      "outputs": [
        {
          "name": "stdout",
          "output_type": "stream",
          "text": [
            "1\n",
            "22\n",
            "333\n",
            "4444\n",
            "55555\n"
          ]
        }
      ],
      "source": [
        "n = 5\n",
        "for i in range(1, n+1):\n",
        "  for j in range(1, i + 1):\n",
        "    print(i, end=\"\")\n",
        "  print()\n",
        "\n",
        "\n"
      ]
    },
    {
      "cell_type": "code",
      "execution_count": null,
      "metadata": {
        "colab": {
          "base_uri": "https://localhost:8080/"
        },
        "id": "ktJiAybOLBbV",
        "outputId": "8fa363bc-9e0b-481f-aa25-71c9a83a0ee4"
      },
      "outputs": [
        {
          "name": "stdout",
          "output_type": "stream",
          "text": [
            "enter a number5\n"
          ]
        }
      ],
      "source": [
        "x = int(input(\"enter a number\"))\n",
        "for i in range(1, x,-1):\n",
        "  for j in range(1, i*i-1):\n",
        "    ptint(i)\n"
      ]
    },
    {
      "cell_type": "code",
      "execution_count": null,
      "metadata": {
        "colab": {
          "base_uri": "https://localhost:8080/"
        },
        "id": "inq-GeA3nkEh",
        "outputId": "c8724eef-506c-46c0-b52b-6e1d25f2c71b"
      },
      "outputs": [
        {
          "name": "stdout",
          "output_type": "stream",
          "text": [
            "1\n",
            "2\n",
            "3\n",
            "4\n",
            "5\n"
          ]
        }
      ],
      "source": [
        "for i in range(1, 5+1):\n",
        "  print(i)"
      ]
    },
    {
      "cell_type": "code",
      "execution_count": null,
      "metadata": {
        "colab": {
          "base_uri": "https://localhost:8080/"
        },
        "id": "5OMoerLBnr-n",
        "outputId": "1cbc8517-0693-4bdb-ada7-f6a0d2f9c69d"
      },
      "outputs": [
        {
          "name": "stdout",
          "output_type": "stream",
          "text": [
            "6\n",
            "720\n"
          ]
        }
      ],
      "source": [
        "n = int(input())\n",
        "fact = 1\n",
        "for i in range(1, n+1):\n",
        "    fact = fact*i\n",
        "print(fact)"
      ]
    },
    {
      "cell_type": "code",
      "execution_count": null,
      "metadata": {
        "colab": {
          "base_uri": "https://localhost:8080/"
        },
        "id": "eea4t8iAoAeS",
        "outputId": "d289cd83-3f43-4b31-da06-bab707cc880a"
      },
      "outputs": [
        {
          "name": "stdout",
          "output_type": "stream",
          "text": [
            "* * * * * \n",
            "* * * * \n",
            "* * * \n",
            "* * \n",
            "* \n"
          ]
        }
      ],
      "source": [
        "r = 5\n",
        "for i in range(r, 0,-1):\n",
        "  for j in range(i):\n",
        "    print(\"*\", end=\" \")\n",
        "  print()"
      ]
    },
    {
      "cell_type": "code",
      "execution_count": null,
      "metadata": {
        "colab": {
          "base_uri": "https://localhost:8080/"
        },
        "id": "CaD1U2s8pdYS",
        "outputId": "ad7011cb-4473-4900-bb5f-bc0e6a925269"
      },
      "outputs": [
        {
          "name": "stdout",
          "output_type": "stream",
          "text": [
            "1\n",
            "22\n",
            "333\n",
            "4444\n",
            "55555\n"
          ]
        }
      ],
      "source": [
        "r = 5\n",
        "for i in range(1, r+1):\n",
        "  for j in range(1, i+1):\n",
        "    print(i, end=\"\")\n",
        "  print()"
      ]
    },
    {
      "cell_type": "code",
      "execution_count": null,
      "metadata": {
        "colab": {
          "base_uri": "https://localhost:8080/"
        },
        "id": "0001Ok82qfru",
        "outputId": "b282b4c5-8b07-45d3-fd75-a0cd66e1a2fc"
      },
      "outputs": [
        {
          "name": "stdout",
          "output_type": "stream",
          "text": [
            "*\n",
            "**\n",
            "***\n",
            "****\n",
            "*****\n"
          ]
        }
      ],
      "source": [
        "r = 5\n",
        "for i in range(1, r+1):\n",
        "  for j in range(1, i+1):\n",
        "    print(\"*\", end=\"\")\n",
        "  print()"
      ]
    },
    {
      "cell_type": "code",
      "execution_count": null,
      "metadata": {
        "colab": {
          "base_uri": "https://localhost:8080/"
        },
        "id": "ch1OV__Uq0od",
        "outputId": "32b91fd9-9866-4725-f9e8-539c780aa915"
      },
      "outputs": [
        {
          "name": "stdout",
          "output_type": "stream",
          "text": [
            "1\n",
            "12\n",
            "123\n",
            "1234\n",
            "12345\n"
          ]
        }
      ],
      "source": [
        "r = 5\n",
        "for i in range(1, r+1):\n",
        "  for j in range(1, i+1):\n",
        "    print(j, end=\"\")\n",
        "  print()"
      ]
    },
    {
      "cell_type": "code",
      "execution_count": null,
      "metadata": {
        "id": "FofXUF6VtCYY"
      },
      "outputs": [],
      "source": [
        "     *\n",
        "   *   *\n",
        "  *  *  *\n",
        " *   *  *  *"
      ]
    },
    {
      "cell_type": "code",
      "execution_count": null,
      "metadata": {
        "colab": {
          "base_uri": "https://localhost:8080/"
        },
        "id": "EC0XWvV4tnB5",
        "outputId": "ba8d2e0f-b05a-4a75-dce6-9b3d461c4cb9"
      },
      "outputs": [
        {
          "name": "stdout",
          "output_type": "stream",
          "text": [
            "[['yes'], -1]\n"
          ]
        }
      ],
      "source": [
        "x = [\"yes\"]\n",
        "y = [x, -1]\n",
        "print(y)"
      ]
    },
    {
      "cell_type": "code",
      "execution_count": null,
      "metadata": {
        "colab": {
          "base_uri": "https://localhost:8080/"
        },
        "id": "YsrRdn89IIni",
        "outputId": "102c0b7d-4f13-49a5-c070-e05453f02423"
      },
      "outputs": [
        {
          "name": "stdout",
          "output_type": "stream",
          "text": [
            "111\n",
            "222\n",
            "loop break\n",
            "\n",
            "444\n",
            "555\n"
          ]
        }
      ],
      "source": [
        "for i in range(1,6):\n",
        "  for j in range(1,4):\n",
        "    if (i == 3):\n",
        "      print(\"loop break\")\n",
        "      break\n",
        "    print(i, end=\"\")\n",
        "  print()"
      ]
    },
    {
      "cell_type": "code",
      "execution_count": null,
      "metadata": {
        "colab": {
          "base_uri": "https://localhost:8080/"
        },
        "id": "PEwf82jNLqFf",
        "outputId": "a32fe805-d3ef-4fb0-84b2-8a0674f6e7e0"
      },
      "outputs": [
        {
          "name": "stdout",
          "output_type": "stream",
          "text": [
            "1111\n",
            "2222\n",
            "loop break\n"
          ]
        }
      ],
      "source": [
        "for i in range(1,6):\n",
        "  if(i==3):\n",
        "    print(\"loop break\")\n",
        "    break\n",
        "  for j in range(1,5):\n",
        "    print(i, end=\"\")\n",
        "  print()\n"
      ]
    },
    {
      "cell_type": "code",
      "execution_count": null,
      "metadata": {
        "colab": {
          "background_save": true,
          "base_uri": "https://localhost:8080/"
        },
        "id": "qzXzrMF5Kcw8",
        "outputId": "23490140-4f1e-41db-aa60-8383c055eabc"
      },
      "outputs": [
        {
          "name": "stdout",
          "output_type": "stream",
          "text": [
            "MSDT\n",
            "MSH\n",
            "MGSDS\n",
            "MGSH\n",
            "choose from above list\n"
          ]
        }
      ],
      "source": [
        "print(\"MSDT\")\n",
        "print(\"MSH\")\n",
        "print(\"MGSDS\")\n",
        "print(\"MGSH\")\n",
        "print(\"choose from above list\")\n",
        "w = input(\"enter the student type\")\n",
        "x =float(input(\"student tution fees\"))\n",
        "y = float(input(\"bus fees\"))\n",
        "z = float(input(\"hostel fees\"))\n",
        "if w == \"MSDT\":\n",
        "  print(x + y )\n",
        "elif w == \"MSH\":\n",
        "  print(x + z)\n",
        "elif w == \"MGSDS\":\n",
        "  print(x * 2.5 + y)\n",
        "elif w == \"MGSH\":\n",
        "  print(x * 2.5+ z  )\n",
        "else:\n",
        "  print(\"error\")\n",
        "\n",
        "\n",
        "\n",
        "\n",
        "\n",
        "\n",
        "\n",
        "\n",
        "\n",
        "\n",
        "\n"
      ]
    },
    {
      "cell_type": "code",
      "execution_count": null,
      "metadata": {
        "id": "YNZam67eQaHv"
      },
      "outputs": [],
      "source": [
        "x = input(\"door\")\n",
        "y = input(\"rail\")\n",
        "if x == \"FRONT\" or x == \"front\" and y == \"1\":\n",
        "  print(\"left\")\n",
        "else:\n",
        "  print(\"right\")\n",
        "\n",
        "if x == \"REAR\" or x == \"rear\" and y == \"1\":\n",
        "  print(\"right\")\n",
        "else:\n",
        "    print(\"left\")"
      ]
    },
    {
      "cell_type": "code",
      "execution_count": null,
      "metadata": {
        "id": "8ev1RhcjV2fn"
      },
      "outputs": [],
      "source": [
        "x = 5\n",
        "for i in range(0, x+1):\n",
        "  print(i)"
      ]
    },
    {
      "cell_type": "code",
      "source": [],
      "metadata": {
        "id": "5fJQohp0yQ--"
      },
      "execution_count": null,
      "outputs": []
    }
  ],
  "metadata": {
    "colab": {
      "provenance": []
    },
    "kernelspec": {
      "display_name": "Python 3",
      "name": "python3"
    },
    "language_info": {
      "name": "python"
    }
  },
  "nbformat": 4,
  "nbformat_minor": 0
}